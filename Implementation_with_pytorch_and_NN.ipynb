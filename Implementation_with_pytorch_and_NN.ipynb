{
  "nbformat": 4,
  "nbformat_minor": 0,
  "metadata": {
    "colab": {
      "provenance": [],
      "authorship_tag": "ABX9TyM67XX3wnoBjw/LkpvYeL+0",
      "include_colab_link": true
    },
    "kernelspec": {
      "name": "python3",
      "display_name": "Python 3"
    },
    "language_info": {
      "name": "python"
    }
  },
  "cells": [
    {
      "cell_type": "markdown",
      "metadata": {
        "id": "view-in-github",
        "colab_type": "text"
      },
      "source": [
        "<a href=\"https://colab.research.google.com/github/SakshiKasture/MNIST_digit_classification/blob/main/Implementation_with_pytorch_and_NN.ipynb\" target=\"_parent\"><img src=\"https://colab.research.google.com/assets/colab-badge.svg\" alt=\"Open In Colab\"/></a>"
      ]
    },
    {
      "cell_type": "code",
      "execution_count": 1,
      "metadata": {
        "id": "qaUIEb2NblOM"
      },
      "outputs": [],
      "source": [
        "import torch\n",
        "import torch.nn as nn\n",
        "import torch.optim as optim\n",
        "import torchvision\n",
        "from torch.utils.data import DataLoader\n",
        "import torchvision.transforms as transforms\n",
        "import matplotlib.pyplot as plt"
      ]
    },
    {
      "cell_type": "markdown",
      "source": [
        "# **Load the Dataset**"
      ],
      "metadata": {
        "id": "YkNWPVGOe9y2"
      }
    },
    {
      "cell_type": "code",
      "source": [
        "#Define a transformation\n",
        "'''transforms.Compose() is used to chain multiple image transformations together.\n",
        "This transformation converts the image from a PIL (Python Imaging Library) or NumPy array format to a PyTorch tensor.\n",
        "Additionally, it normalizes the pixel values of the image to a range of [0, 1] by dividing by 255.\n",
        "This step is essential because neural networks typically work with tensors, not images.\n",
        "It converts an image of shape (H, W, C) (Height, Width, Channels) into a tensor of shape (C, H, W).\n",
        "transforms.Normalize(mean, std)\n",
        "This transformation normalizes the image tensor by subtracting the mean and dividing by the standard deviation.\n",
        "It makes the model training more stable by ensuring the data has a standard distribution (zero mean, unit variance).\n",
        "The mean and std values depend on the dataset. For MNIST, the mean and std are often chosen as (0.5,) to bring pixel values into a roughly centered range.\n",
        "After normalization, the tensor will have a mean of 0 and a standard deviation of 1.\n",
        "Normalize works on tensors, not on images. If you try to apply Normalize directly to an image, it will raise an error because\n",
        "Normalize expects a tensor as input, and the image is still in its original format (e.g., PIL or NumPy).\n",
        "The image needs to be converted to a tensor first using ToTensor(), and then Normalize() can operate on the tensor.'''\n",
        "\n",
        "transform = transforms.Compose(\n",
        "    [transforms.ToTensor(), transforms.Normalize((0.5,), (0.5,))]\n",
        ")\n",
        "\n",
        "#Load the datasets and test datasets\n",
        "trainset = torchvision.datasets.MNIST(root='./data', train=True, download=True, transform=transform)\n",
        "testset = torchvision.datasets.MNIST(root='./data', train=False, download=True, transform=transform)\n",
        "\n",
        "#Creation of Dataloaders\n",
        "dataloader = DataLoader(trainset, batch_size=32, shuffle=True)\n",
        "testloader = DataLoader(testset, batch_size=32, shuffle=False)"
      ],
      "metadata": {
        "id": "dDcTS91-ciP4",
        "colab": {
          "base_uri": "https://localhost:8080/"
        },
        "outputId": "77e82eb0-45fd-4b4f-dc57-8147d4421e24"
      },
      "execution_count": 3,
      "outputs": [
        {
          "output_type": "stream",
          "name": "stdout",
          "text": [
            "Downloading http://yann.lecun.com/exdb/mnist/train-images-idx3-ubyte.gz\n",
            "Failed to download (trying next):\n",
            "<urlopen error [Errno 110] Connection timed out>\n",
            "\n",
            "Downloading https://ossci-datasets.s3.amazonaws.com/mnist/train-images-idx3-ubyte.gz\n",
            "Downloading https://ossci-datasets.s3.amazonaws.com/mnist/train-images-idx3-ubyte.gz to ./data/MNIST/raw/train-images-idx3-ubyte.gz\n"
          ]
        },
        {
          "output_type": "stream",
          "name": "stderr",
          "text": [
            "100%|██████████| 9.91M/9.91M [00:00<00:00, 11.6MB/s]\n"
          ]
        },
        {
          "output_type": "stream",
          "name": "stdout",
          "text": [
            "Extracting ./data/MNIST/raw/train-images-idx3-ubyte.gz to ./data/MNIST/raw\n",
            "\n",
            "Downloading http://yann.lecun.com/exdb/mnist/train-labels-idx1-ubyte.gz\n",
            "Failed to download (trying next):\n",
            "<urlopen error [Errno 110] Connection timed out>\n",
            "\n",
            "Downloading https://ossci-datasets.s3.amazonaws.com/mnist/train-labels-idx1-ubyte.gz\n",
            "Downloading https://ossci-datasets.s3.amazonaws.com/mnist/train-labels-idx1-ubyte.gz to ./data/MNIST/raw/train-labels-idx1-ubyte.gz\n"
          ]
        },
        {
          "output_type": "stream",
          "name": "stderr",
          "text": [
            "100%|██████████| 28.9k/28.9k [00:00<00:00, 351kB/s]\n"
          ]
        },
        {
          "output_type": "stream",
          "name": "stdout",
          "text": [
            "Extracting ./data/MNIST/raw/train-labels-idx1-ubyte.gz to ./data/MNIST/raw\n",
            "\n",
            "Downloading http://yann.lecun.com/exdb/mnist/t10k-images-idx3-ubyte.gz\n",
            "Failed to download (trying next):\n",
            "<urlopen error [Errno 110] Connection timed out>\n",
            "\n",
            "Downloading https://ossci-datasets.s3.amazonaws.com/mnist/t10k-images-idx3-ubyte.gz\n",
            "Downloading https://ossci-datasets.s3.amazonaws.com/mnist/t10k-images-idx3-ubyte.gz to ./data/MNIST/raw/t10k-images-idx3-ubyte.gz\n"
          ]
        },
        {
          "output_type": "stream",
          "name": "stderr",
          "text": [
            "100%|██████████| 1.65M/1.65M [00:00<00:00, 3.20MB/s]\n"
          ]
        },
        {
          "output_type": "stream",
          "name": "stdout",
          "text": [
            "Extracting ./data/MNIST/raw/t10k-images-idx3-ubyte.gz to ./data/MNIST/raw\n",
            "\n",
            "Downloading http://yann.lecun.com/exdb/mnist/t10k-labels-idx1-ubyte.gz\n",
            "Failed to download (trying next):\n",
            "<urlopen error [Errno 110] Connection timed out>\n",
            "\n",
            "Downloading https://ossci-datasets.s3.amazonaws.com/mnist/t10k-labels-idx1-ubyte.gz\n",
            "Downloading https://ossci-datasets.s3.amazonaws.com/mnist/t10k-labels-idx1-ubyte.gz to ./data/MNIST/raw/t10k-labels-idx1-ubyte.gz\n"
          ]
        },
        {
          "output_type": "stream",
          "name": "stderr",
          "text": [
            "100%|██████████| 4.54k/4.54k [00:00<00:00, 2.05MB/s]\n"
          ]
        },
        {
          "output_type": "stream",
          "name": "stdout",
          "text": [
            "Extracting ./data/MNIST/raw/t10k-labels-idx1-ubyte.gz to ./data/MNIST/raw\n",
            "\n"
          ]
        }
      ]
    },
    {
      "cell_type": "markdown",
      "source": [
        "# **Building the Neural Network**"
      ],
      "metadata": {
        "id": "8M8CKu3Ifh9d"
      }
    },
    {
      "cell_type": "code",
      "source": [
        "#Input Layer (28 * 28): Matches the flattened size of the MNIST input image (28x28 pixels).\n",
        "'''Hidden Layers (128, 64):\n",
        "\n",
        "These are chosen based on how complex the task is and how much information needs to be learned.\n",
        "Larger values like 128 allow the network to learn more features but increase computational cost.\n",
        "Smaller values like 64 reduce computation but might limit the model's capacity.\n",
        "Common practice: Start with a reasonable size (e.g., 128) and decrease gradually (64) as you go deeper.\n",
        "In summary, the sizes (128, 64, etc.) are hyperparameters and are chosen based on experimentation, considering the task's complexity and computational efficiency.'''\n",
        "class SimpleNN(nn.Module):\n",
        "  def __init__(self):\n",
        "    super(SimpleNN, self).__init__()\n",
        "     # Input layer: 28x28 images (flattened to 784 features)\n",
        "    self.fc1 = nn.Linear(28*28, 128)\n",
        "    self.fc2 = nn.Linear(128, 64)\n",
        "    self.fc3 = nn.Linear(64, 10) # Output layer (10 classes for MNIST digits)\n",
        "\n",
        "  def forward(self,x):\n",
        "     x = x.view(x.size(0), -1)\n",
        "      #ReLU (Rectified Linear Unit) is applied to introduce non-linearity, allowing the model to learn complex patterns in the data.\n",
        "     x = torch.relu(self.fc1(x)) # Apply ReLU activation\n",
        "     x = torch.relu(self.fc2(x)) # Apply ReLU activation\n",
        "     x = self.fc3(x) # Output layer\n",
        "     return x"
      ],
      "metadata": {
        "id": "vPu_aVoefgB1"
      },
      "execution_count": 17,
      "outputs": []
    },
    {
      "cell_type": "markdown",
      "source": [
        "# **Setup of Loss function and Optimizer**"
      ],
      "metadata": {
        "id": "2sSXSzhDhxrt"
      }
    },
    {
      "cell_type": "code",
      "source": [
        "# Instantiate the model\n",
        "model = SimpleNN()\n",
        "\n",
        "# Defining loss function and optimizer\n",
        "criterion = nn.CrossEntropyLoss() # For classification\n",
        "optimizer = optim.Adam(model.parameters(), lr=0.001)"
      ],
      "metadata": {
        "id": "9aSWd4hKhxLt"
      },
      "execution_count": 18,
      "outputs": []
    },
    {
      "cell_type": "markdown",
      "source": [
        "# **Train the model**"
      ],
      "metadata": {
        "id": "PhM2L-BLiUeD"
      }
    },
    {
      "cell_type": "code",
      "source": [
        "# Training loop\n",
        "'''This loop runs the training process for a specified number of epochs (iterations over the entire dataset).\n",
        "Each epoch means the model sees all the training data once.running_loss = 0.0\n",
        "This variable tracks the cumulative loss within a single epoch, helping to monitor how well the model is learning.\n",
        "Here, trainloader (a PyTorch DataLoader) provides batches of training data. Each batch contains:\n",
        "inputs: Features (e.g., images).\n",
        "labels: Corresponding targets (e.g., class labels).\n",
        "enumerate gives both the batch index i and the data (inputs, labels).\n",
        "Imp step - optimizer.zero_grad()\n",
        "Gradients from the previous batch are cleared. If this step is skipped, gradients will accumulate, leading to incorrect updates during backpropagation.\n",
        "outputs = model(inputs)\n",
        "The inputs are passed through the model, which computes predictions (outputs). This is called the forward pass and is the starting point for calculating loss.\n",
        "'''\n",
        "epochs = 5 # Number of epochs to train\n",
        "for epoch in range(epochs):\n",
        "  running_loss = 0.0\n",
        "  for i, (inputs, labels) in enumerate(dataloader,0):\n",
        "    optimizer.zero_grad() # Zero the parameter gradients\n",
        "  # Forward pass\n",
        "    outputs = model(inputs)\n",
        "     # Calculate loss\n",
        "     #The labels are typically obtained from the DataLoader during the training loop, where each batch provides both inputs (features) and labels (targets).\n",
        "    loss = criterion(outputs, labels)\n",
        "    # Backward pass and optimization\n",
        "    #Computes the gradients of the loss with respect to all the model's parameters (weights and biases).\n",
        "    #The computed gradients are essential for updating the model's parameters during optimization.\n",
        "    loss.backward()\n",
        "    #The optimizer (e.g., Adam, SGD) adjusts the parameters in the direction that minimizes the loss.\n",
        "    #This is the step where learning happens.\n",
        "    optimizer.step()\n",
        "    #Adds the current batch's loss to running_loss.\n",
        "    #loss.item() extracts the scalar value of the loss (as PyTorch's loss tensor holds more than just the number).\n",
        "    running_loss += loss.item()\n",
        "\n",
        "    if i % 100 == 99:\n",
        "      '''Every 100 batches (i % 100 == 99), print the average loss for those batches.\n",
        "          The loss is averaged by dividing running_loss by 100.\n",
        "          Helps monitor whether the loss is decreasing over time, indicating effective learning.\n",
        "          After printing, running_loss is reset to 0.0 for the next 100 batches.\n",
        "          '''\n",
        "      print(f\"Epoch {epoch + 1}, Batch {i + 1}, Loss: {running_loss / 100:.4f}\")\n",
        "      running_loss = 0.0\n",
        "print(\"Finished training!\")"
      ],
      "metadata": {
        "id": "mzpfKVQ4iXFg",
        "colab": {
          "base_uri": "https://localhost:8080/"
        },
        "outputId": "6ff0b540-a54b-415a-88ec-afac952e32e1"
      },
      "execution_count": 19,
      "outputs": [
        {
          "output_type": "stream",
          "name": "stdout",
          "text": [
            "Epoch 1, Batch 100, Loss: 1.3167\n",
            "Epoch 1, Batch 200, Loss: 0.5599\n",
            "Epoch 1, Batch 300, Loss: 0.4627\n",
            "Epoch 1, Batch 400, Loss: 0.4177\n",
            "Epoch 1, Batch 500, Loss: 0.3684\n",
            "Epoch 1, Batch 600, Loss: 0.3582\n",
            "Epoch 1, Batch 700, Loss: 0.3168\n",
            "Epoch 1, Batch 800, Loss: 0.3316\n",
            "Epoch 1, Batch 900, Loss: 0.2984\n",
            "Epoch 1, Batch 1000, Loss: 0.2784\n",
            "Epoch 1, Batch 1100, Loss: 0.2774\n",
            "Epoch 1, Batch 1200, Loss: 0.2764\n",
            "Epoch 1, Batch 1300, Loss: 0.2632\n",
            "Epoch 1, Batch 1400, Loss: 0.2737\n",
            "Epoch 1, Batch 1500, Loss: 0.2562\n",
            "Epoch 1, Batch 1600, Loss: 0.2317\n",
            "Epoch 1, Batch 1700, Loss: 0.2391\n",
            "Epoch 1, Batch 1800, Loss: 0.2148\n",
            "Epoch 2, Batch 100, Loss: 0.2147\n",
            "Epoch 2, Batch 200, Loss: 0.2040\n",
            "Epoch 2, Batch 300, Loss: 0.1907\n",
            "Epoch 2, Batch 400, Loss: 0.2034\n",
            "Epoch 2, Batch 500, Loss: 0.2110\n",
            "Epoch 2, Batch 600, Loss: 0.1993\n",
            "Epoch 2, Batch 700, Loss: 0.1696\n",
            "Epoch 2, Batch 800, Loss: 0.1754\n",
            "Epoch 2, Batch 900, Loss: 0.1919\n",
            "Epoch 2, Batch 1000, Loss: 0.1539\n",
            "Epoch 2, Batch 1100, Loss: 0.1808\n",
            "Epoch 2, Batch 1200, Loss: 0.1472\n",
            "Epoch 2, Batch 1300, Loss: 0.1773\n",
            "Epoch 2, Batch 1400, Loss: 0.1587\n",
            "Epoch 2, Batch 1500, Loss: 0.1694\n",
            "Epoch 2, Batch 1600, Loss: 0.1636\n",
            "Epoch 2, Batch 1700, Loss: 0.1559\n",
            "Epoch 2, Batch 1800, Loss: 0.1343\n",
            "Epoch 3, Batch 100, Loss: 0.1314\n",
            "Epoch 3, Batch 200, Loss: 0.1239\n",
            "Epoch 3, Batch 300, Loss: 0.1222\n",
            "Epoch 3, Batch 400, Loss: 0.1567\n",
            "Epoch 3, Batch 500, Loss: 0.1321\n",
            "Epoch 3, Batch 600, Loss: 0.1145\n",
            "Epoch 3, Batch 700, Loss: 0.1307\n",
            "Epoch 3, Batch 800, Loss: 0.1502\n",
            "Epoch 3, Batch 900, Loss: 0.1366\n",
            "Epoch 3, Batch 1000, Loss: 0.1355\n",
            "Epoch 3, Batch 1100, Loss: 0.1530\n",
            "Epoch 3, Batch 1200, Loss: 0.1335\n",
            "Epoch 3, Batch 1300, Loss: 0.1393\n",
            "Epoch 3, Batch 1400, Loss: 0.1299\n",
            "Epoch 3, Batch 1500, Loss: 0.1230\n",
            "Epoch 3, Batch 1600, Loss: 0.1194\n",
            "Epoch 3, Batch 1700, Loss: 0.1162\n",
            "Epoch 3, Batch 1800, Loss: 0.1302\n",
            "Epoch 4, Batch 100, Loss: 0.0834\n",
            "Epoch 4, Batch 200, Loss: 0.1026\n",
            "Epoch 4, Batch 300, Loss: 0.1232\n",
            "Epoch 4, Batch 400, Loss: 0.1293\n",
            "Epoch 4, Batch 500, Loss: 0.0893\n",
            "Epoch 4, Batch 600, Loss: 0.1144\n",
            "Epoch 4, Batch 700, Loss: 0.1225\n",
            "Epoch 4, Batch 800, Loss: 0.1255\n",
            "Epoch 4, Batch 900, Loss: 0.1055\n",
            "Epoch 4, Batch 1000, Loss: 0.0978\n",
            "Epoch 4, Batch 1100, Loss: 0.1098\n",
            "Epoch 4, Batch 1200, Loss: 0.1061\n",
            "Epoch 4, Batch 1300, Loss: 0.1097\n",
            "Epoch 4, Batch 1400, Loss: 0.1174\n",
            "Epoch 4, Batch 1500, Loss: 0.0972\n",
            "Epoch 4, Batch 1600, Loss: 0.1183\n",
            "Epoch 4, Batch 1700, Loss: 0.1003\n",
            "Epoch 4, Batch 1800, Loss: 0.1061\n",
            "Epoch 5, Batch 100, Loss: 0.1005\n",
            "Epoch 5, Batch 200, Loss: 0.0955\n",
            "Epoch 5, Batch 300, Loss: 0.0975\n",
            "Epoch 5, Batch 400, Loss: 0.0947\n",
            "Epoch 5, Batch 500, Loss: 0.1099\n",
            "Epoch 5, Batch 600, Loss: 0.0977\n",
            "Epoch 5, Batch 700, Loss: 0.0880\n",
            "Epoch 5, Batch 800, Loss: 0.1005\n",
            "Epoch 5, Batch 900, Loss: 0.1013\n",
            "Epoch 5, Batch 1000, Loss: 0.0965\n",
            "Epoch 5, Batch 1100, Loss: 0.0899\n",
            "Epoch 5, Batch 1200, Loss: 0.0711\n",
            "Epoch 5, Batch 1300, Loss: 0.0858\n",
            "Epoch 5, Batch 1400, Loss: 0.0831\n",
            "Epoch 5, Batch 1500, Loss: 0.0854\n",
            "Epoch 5, Batch 1600, Loss: 0.1031\n",
            "Epoch 5, Batch 1700, Loss: 0.0974\n",
            "Epoch 5, Batch 1800, Loss: 0.1151\n",
            "Finished training!\n"
          ]
        }
      ]
    },
    {
      "cell_type": "markdown",
      "source": [
        "## Evaluate the model"
      ],
      "metadata": {
        "id": "e6wNjtgLRSgQ"
      }
    },
    {
      "cell_type": "code",
      "source": [
        "#Evaluate the model\n",
        "correct = 0\n",
        "total = 0\n",
        "#Disables gradient calculation during evaluation/testing, saving memory and computation since gradients are only needed during training.\n",
        "with torch.no_grad():\n",
        "  for inputs, labels in testloader:\n",
        "    outputs = model(inputs)\n",
        "    '''outputs.data: Contains the model's raw predictions (logits or probabilities) for each class.\n",
        "torch.max(outputs.data, 1): Identifies the class with the highest value (confidence) along dimension 1 (class axis).\n",
        " #Finds the predicted class for each input in the batch. The placeholder _ is used to indicate that we are intentionally ignoring the actual\n",
        " maximum values returned by torch.max. This simplifies the code and makes it clear that only the indices (predicted classes) are needed for further processing\n",
        " '''\n",
        "    _, predicted = torch.max(outputs.data, 1)\n",
        "    total += labels.size(0) #labels.size(0) gives the batch size.\n",
        "    '''Compares predicted (model predictions) with labels (true targets).\n",
        "(predicted == labels) generates a boolean tensor where True indicates correct predictions.\n",
        ".sum(): Counts the number of True values (correct predictions).\n",
        ".item(): Converts the resulting tensor into a Python scalar, which is then added to correct.This code evaluates the model's performance on the test dataset\n",
        "by calculating how many predictions match the actual labels, which can then be used to compute the accuracy:\n",
        "'''\n",
        "    correct += (predicted == labels).sum().item()\n",
        "print(f\"Accuracy on the test set: {100 * correct / total}%\")"
      ],
      "metadata": {
        "id": "0s6HCs6eSm54",
        "colab": {
          "base_uri": "https://localhost:8080/"
        },
        "outputId": "8ce8c903-5f63-4de4-bda2-1a192c7ff0c8"
      },
      "execution_count": 21,
      "outputs": [
        {
          "output_type": "stream",
          "name": "stdout",
          "text": [
            "Accuracy on the test set: 97.04%\n"
          ]
        }
      ]
    },
    {
      "cell_type": "markdown",
      "source": [
        "# Visualize Predictions"
      ],
      "metadata": {
        "id": "vYRh4TnglTsT"
      }
    },
    {
      "cell_type": "code",
      "source": [
        "# Visualize some test images and the model's predictions\n",
        "#Evaluating the model gives overall metrics, while fetching and analyzing a batch like this is useful for detailed, per-sample inspection\n",
        "#This step, however, allows you to inspect individual predictions for a batch of images, which is not possible during standard evaluation.\n",
        "'''iter() converts the DataLoader into an iterator so you can manually step through its batches. It is done to To manually fetch a batch of data from the test dataset.\n",
        ".next() fetches the next batch of data (images and corresponding labels) from the iterator.\n",
        "images contains the batch of input data (test images).\n",
        "labels contains the correct labels for these test images. It is done to To get one batch of data for making predictions and evaluating the model.\n",
        "torch.max(outputs, 1) calculates the maximum value along dimension 1 (class dimension) of outputs.\n",
        "The first value (_) is the maximum value (not used here).\n",
        "The second value (predicted) is the index (class label) corresponding to the maximum value for each sample in the batch.\n",
        "To determine the predicted class labels for the test images by finding the class with the highest probability or score.\n",
        "This code manually fetches a batch of test images and labels, passes the images through the model to get predictions,\n",
        "and determines the predicted class labels by selecting the class with the highest score for each image.'''\n",
        "dataiter = iter(testloader)\n",
        "images, labels = next(dataiter)\n",
        "outputs = model(images)\n",
        "_, predicted = torch.max(outputs, 1)\n",
        "\n",
        "#Plot the images\n",
        "#Creates a figure for plotting with a size of 10x5 inches.\n",
        "fig = plt.figure(figsize=(10, 5))\n",
        "#Iterates over the first 6 images in the batch.\n",
        "for i in range(6):\n",
        "  #Creates a grid of subplots with 2 rows and 3 columns. Places each image in the next available subplot.\n",
        "    ax = fig.add_subplot(2, 3, i + 1)\n",
        "    #Converts the ith image from a tensor to a NumPy array and displays it in grayscale.\n",
        "    ax.imshow(images[i].numpy().squeeze(), cmap='gray')\n",
        "    #Sets the title of the subplot to show the predicted label for the corresponding image.\n",
        "    ax.set_title(f\"Predicted: {predicted[i].item()}\")\n",
        "    #Removes axis labels for a cleaner look.\n",
        "    ax.axis('off')\n",
        "\n",
        "plt.show()"
      ],
      "metadata": {
        "colab": {
          "base_uri": "https://localhost:8080/",
          "height": 444
        },
        "id": "Aw2wZwdOlQMt",
        "outputId": "85bc43a6-65aa-498f-bd05-4b8ed7d668d0"
      },
      "execution_count": 24,
      "outputs": [
        {
          "output_type": "display_data",
          "data": {
            "text/plain": [
              "<Figure size 1000x500 with 6 Axes>"
            ],
            "image/png": "[encoded data removed]"
          },
          "metadata": {}
        }
      ]
    }
  ]
}